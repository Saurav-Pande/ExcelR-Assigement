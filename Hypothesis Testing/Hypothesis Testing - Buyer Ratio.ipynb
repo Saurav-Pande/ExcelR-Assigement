{
 "cells": [
  {
   "cell_type": "markdown",
   "id": "a8a7a11c",
   "metadata": {},
   "source": [
    "### Problem Statements:"
   ]
  },
  {
   "cell_type": "markdown",
   "id": "705cf734",
   "metadata": {},
   "source": [
    "### Sales of products in four different regions is tabulated for males and females. Find if male-female buyer rations are similar across regions."
   ]
  },
  {
   "cell_type": "code",
   "execution_count": 1,
   "id": "3962159d",
   "metadata": {},
   "outputs": [],
   "source": [
    "#Import libararies\n",
    "import pandas as pd\n",
    "import scipy\n",
    "from scipy.stats import chisquare"
   ]
  },
  {
   "cell_type": "code",
   "execution_count": 2,
   "id": "65be25f8",
   "metadata": {},
   "outputs": [
    {
     "data": {
      "text/html": [
       "<div>\n",
       "<style scoped>\n",
       "    .dataframe tbody tr th:only-of-type {\n",
       "        vertical-align: middle;\n",
       "    }\n",
       "\n",
       "    .dataframe tbody tr th {\n",
       "        vertical-align: top;\n",
       "    }\n",
       "\n",
       "    .dataframe thead th {\n",
       "        text-align: right;\n",
       "    }\n",
       "</style>\n",
       "<table border=\"1\" class=\"dataframe\">\n",
       "  <thead>\n",
       "    <tr style=\"text-align: right;\">\n",
       "      <th></th>\n",
       "      <th>Observed Values</th>\n",
       "      <th>East</th>\n",
       "      <th>West</th>\n",
       "      <th>North</th>\n",
       "      <th>South</th>\n",
       "    </tr>\n",
       "  </thead>\n",
       "  <tbody>\n",
       "    <tr>\n",
       "      <th>0</th>\n",
       "      <td>Males</td>\n",
       "      <td>50</td>\n",
       "      <td>142</td>\n",
       "      <td>131</td>\n",
       "      <td>70</td>\n",
       "    </tr>\n",
       "    <tr>\n",
       "      <th>1</th>\n",
       "      <td>Females</td>\n",
       "      <td>435</td>\n",
       "      <td>1523</td>\n",
       "      <td>1356</td>\n",
       "      <td>750</td>\n",
       "    </tr>\n",
       "  </tbody>\n",
       "</table>\n",
       "</div>"
      ],
      "text/plain": [
       "  Observed Values  East  West  North  South\n",
       "0           Males    50   142    131     70\n",
       "1         Females   435  1523   1356    750"
      ]
     },
     "execution_count": 2,
     "metadata": {},
     "output_type": "execute_result"
    }
   ],
   "source": [
    "#Read the csv file\n",
    "data= pd.read_csv(r'E:\\DS Assigment\\Hypothesis Testing/BuyerRatio.csv')\n",
    "data"
   ]
  },
  {
   "cell_type": "markdown",
   "id": "66f3a347",
   "metadata": {},
   "source": [
    "#### H0 - all proportions of male-female buyer ratio is same"
   ]
  },
  {
   "cell_type": "markdown",
   "id": "7649e7be",
   "metadata": {},
   "source": [
    "#### H1 - all proportions of male-female buyer ratio is not the same"
   ]
  },
  {
   "cell_type": "code",
   "execution_count": 3,
   "id": "beb7b3e7",
   "metadata": {
    "scrolled": true
   },
   "outputs": [
    {
     "name": "stderr",
     "output_type": "stream",
     "text": [
      "C:\\Users\\SAURAV\\AppData\\Local\\Temp\\ipykernel_11160\\4058433595.py:1: FutureWarning: Dropping of nuisance columns in DataFrame reductions (with 'numeric_only=None') is deprecated; in a future version this will raise TypeError.  Select only valid columns before calling the reduction.\n",
      "  data['all'] = data.sum(axis=1)\n"
     ]
    }
   ],
   "source": [
    "data['all'] = data.sum(axis=1)"
   ]
  },
  {
   "cell_type": "code",
   "execution_count": 4,
   "id": "ae6fec1c",
   "metadata": {},
   "outputs": [
    {
     "data": {
      "text/html": [
       "<div>\n",
       "<style scoped>\n",
       "    .dataframe tbody tr th:only-of-type {\n",
       "        vertical-align: middle;\n",
       "    }\n",
       "\n",
       "    .dataframe tbody tr th {\n",
       "        vertical-align: top;\n",
       "    }\n",
       "\n",
       "    .dataframe thead th {\n",
       "        text-align: right;\n",
       "    }\n",
       "</style>\n",
       "<table border=\"1\" class=\"dataframe\">\n",
       "  <thead>\n",
       "    <tr style=\"text-align: right;\">\n",
       "      <th>all</th>\n",
       "      <th>393</th>\n",
       "      <th>4064</th>\n",
       "    </tr>\n",
       "    <tr>\n",
       "      <th>Observed Values</th>\n",
       "      <th></th>\n",
       "      <th></th>\n",
       "    </tr>\n",
       "  </thead>\n",
       "  <tbody>\n",
       "    <tr>\n",
       "      <th>Females</th>\n",
       "      <td>0</td>\n",
       "      <td>1</td>\n",
       "    </tr>\n",
       "    <tr>\n",
       "      <th>Males</th>\n",
       "      <td>1</td>\n",
       "      <td>0</td>\n",
       "    </tr>\n",
       "  </tbody>\n",
       "</table>\n",
       "</div>"
      ],
      "text/plain": [
       "all              393   4064\n",
       "Observed Values            \n",
       "Females             0     1\n",
       "Males               1     0"
      ]
     },
     "execution_count": 4,
     "metadata": {},
     "output_type": "execute_result"
    }
   ],
   "source": [
    "count=pd.crosstab(data['Observed Values'],data['all'])\n",
    "count"
   ]
  },
  {
   "cell_type": "markdown",
   "id": "369d267f",
   "metadata": {},
   "source": [
    "#### Using chisquare test to identify if the male-female buyer ratio is same or not"
   ]
  },
  {
   "cell_type": "code",
   "execution_count": 5,
   "id": "7e656ff5",
   "metadata": {},
   "outputs": [
    {
     "data": {
      "text/plain": [
       "Power_divergenceResult(statistic=array([1., 1.]), pvalue=array([0.31731051, 0.31731051]))"
      ]
     },
     "execution_count": 5,
     "metadata": {},
     "output_type": "execute_result"
    }
   ],
   "source": [
    "Chisquares_results=scipy.stats.chisquare(count)\n",
    "Chisquares_results"
   ]
  },
  {
   "cell_type": "markdown",
   "id": "3ac2c445",
   "metadata": {},
   "source": [
    "### Conclusion:"
   ]
  },
  {
   "cell_type": "markdown",
   "id": "96c06a42",
   "metadata": {},
   "source": [
    "### Since the P value is 0.66 > 0.05, We accept H0."
   ]
  },
  {
   "cell_type": "markdown",
   "id": "43998ab2",
   "metadata": {},
   "source": [
    "### Thus, All proportions of male-female buyer ratio is same in all directions."
   ]
  }
 ],
 "metadata": {
  "kernelspec": {
   "display_name": "Python 3 (ipykernel)",
   "language": "python",
   "name": "python3"
  },
  "language_info": {
   "codemirror_mode": {
    "name": "ipython",
    "version": 3
   },
   "file_extension": ".py",
   "mimetype": "text/x-python",
   "name": "python",
   "nbconvert_exporter": "python",
   "pygments_lexer": "ipython3",
   "version": "3.9.13"
  }
 },
 "nbformat": 4,
 "nbformat_minor": 5
}
